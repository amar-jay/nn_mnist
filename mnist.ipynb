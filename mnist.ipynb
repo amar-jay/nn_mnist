{
 "cells": [
  {
   "cell_type": "code",
   "execution_count": 1,
   "id": "49323270-7ec9-46c3-beed-eae2fe04c7e5",
   "metadata": {},
   "outputs": [
    {
     "name": "stdout",
     "output_type": "stream",
     "text": [
      "Torch:  2.7.1+cu126\n",
      "Torchvision:  0.22.1+cu126\n"
     ]
    }
   ],
   "source": [
    "import torch\n",
    "import torch.nn.functional as F\n",
    "import torchvision\n",
    "from tqdm.notebook import tqdm\n",
    "from matplotlib import pyplot as plt\n",
    "\n",
    "\n",
    "print(\"Torch: \", torch.__version__)\n",
    "print(\"Torchvision: \", torchvision.__version__)"
   ]
  },
  {
   "cell_type": "code",
   "execution_count": 2,
   "id": "385e0fd2-a23a-4cb0-8343-89c74f6e182a",
   "metadata": {},
   "outputs": [
    {
     "data": {
      "text/plain": [
       "(Dataset MNIST\n",
       "     Number of datapoints: 60000\n",
       "     Root location: ./data\n",
       "     Split: Train\n",
       "     StandardTransform\n",
       " Transform: Compose(\n",
       "                ToTensor()\n",
       "            ),\n",
       " Dataset MNIST\n",
       "     Number of datapoints: 10000\n",
       "     Root location: ./data\n",
       "     Split: Test\n",
       "     StandardTransform\n",
       " Transform: Compose(\n",
       "                ToTensor()\n",
       "            ))"
      ]
     },
     "execution_count": 2,
     "metadata": {},
     "output_type": "execute_result"
    }
   ],
   "source": [
    "transforms = torchvision.transforms.Compose([torchvision.transforms.ToTensor()])\n",
    "train_dataset = torchvision.datasets.MNIST(\"./data\", download=True, train=True, transform=transforms)\n",
    "test_dataset = torchvision.datasets.MNIST(\"./data\", download=True, train=False, transform=transforms)\n",
    "\n",
    "train_dataloader = torch.utils.data.DataLoader(train_dataset, batch_size=4, shuffle=True, num_workers=4)\n",
    "test_dataloader = torch.utils.data.DataLoader(test_dataset, batch_size=4, shuffle=True, num_workers=4)\n",
    "\n",
    "train_dataset, test_dataset\n"
   ]
  },
  {
   "cell_type": "code",
   "execution_count": 4,
   "id": "80ec4431-6e29-4eaf-a3ea-553007ef06d2",
   "metadata": {},
   "outputs": [
    {
     "name": "stdout",
     "output_type": "stream",
     "text": [
      "shape of image: torch.Size([4, 1, 28, 28])\n",
      "shape of label: torch.Size([4])\n"
     ]
    },
    {
     "data": {
      "image/png": "[encoded data removed]",
      "text/plain": [
       "<Figure size 640x480 with 4 Axes>"
      ]
     },
     "metadata": {},
     "output_type": "display_data"
    }
   ],
   "source": [
    "plt.figure(1)\n",
    "for x, y in train_dataloader:\n",
    "    print(\"shape of image:\", x.shape)\n",
    "    print(\"shape of label:\", y.shape)\n",
    "    for i in range(x.size(0)):\n",
    "        plt.subplot(221 + i)\n",
    "        plt.imshow(x[i].permute(1, 2, 0))\n",
    "    break"
   ]
  },
  {
   "cell_type": "code",
   "execution_count": 5,
   "id": "60cb8f74-fde0-474e-97ae-a90fcf73bbd0",
   "metadata": {},
   "outputs": [],
   "source": [
    "class CNNClassifier(torch.nn.Module):\n",
    "    def __init__(self):\n",
    "        super(CNNClassifier, self).__init__()\n",
    "        self.c1 = torch.nn.Conv2d(1, 32, kernel_size=3)\n",
    "        self.c2 = torch.nn.Conv2d(32, 64, kernel_size=3)\n",
    "        self.c3 = torch.nn.Conv2d(64, 128, kernel_size=3)\n",
    "        self.c4 = torch.nn.Conv2d(128, 256, kernel_size=3)\n",
    "        self.fproj = torch.nn.Linear(in_features=102400, out_features=10)  # final projection\n",
    "    def forward(self, x):\n",
    "        x = F.relu(self.c1(x))\n",
    "        x = F.relu(self.c2(x))\n",
    "        x = F.relu(self.c3(x))\n",
    "        x = F.relu(self.c4(x))\n",
    "        x = x.view(x.size(0), -1)  # flatten\n",
    "        return self.fproj(x)\n",
    "\n",
    "class ResnetClassifier(torch.nn.Module):\n",
    "    def __init__():\n",
    "        pass\n",
    "    def forward():\n",
    "        pass\n",
    "\n",
    "class RNNClassifier(torch.nn.Module):\n",
    "    def __init__():\n",
    "        pass\n",
    "    def forward():\n",
    "        pass\n",
    "\n",
    "class LSTMClassifier(torch.nn.Module):\n",
    "    def __init__():\n",
    "        pass\n",
    "    def forward():\n",
    "        pass\n",
    "\n",
    "class GRUClassifier(torch.nn.Module):\n",
    "    def __init__():\n",
    "        pass\n",
    "    def forward():\n",
    "        pass\n",
    "\n",
    "class TransformerClassifier(torch.nn.Module):\n",
    "    def __init__():\n",
    "        pass\n",
    "    def forward():\n",
    "        pass\n",
    "\n",
    "class GraphClassifier(torch.nn.Module):\n",
    "    def __init__():\n",
    "        pass\n",
    "    def forward():\n",
    "        pass"
   ]
  },
  {
   "cell_type": "code",
   "execution_count": 6,
   "id": "001cb581-1f07-4db2-a216-29f7fa91ca0d",
   "metadata": {},
   "outputs": [
    {
     "data": {
      "application/vnd.jupyter.widget-view+json": {
       "model_id": "1f854c4f65d246b8af11dc31c0c6a973",
       "version_major": 2,
       "version_minor": 0
      },
      "text/plain": [
       "  0%|          | 0/15000 [00:00<?, ?it/s]"
      ]
     },
     "metadata": {},
     "output_type": "display_data"
    },
    {
     "name": "stdout",
     "output_type": "stream",
     "text": [
      "final loss: 0.005205871537327766\n"
     ]
    }
   ],
   "source": [
    "model = CNNClassifier()\n",
    "optimizer = torch.optim.Adam(model.parameters(), lr=3e-4)\n",
    "\n",
    "loss = 0\n",
    "for x, y in tqdm(train_dataloader):\n",
    "    optimizer.zero_grad()  # Reset gradients\n",
    "    res = model(x)\n",
    "    loss = F.cross_entropy(res, y)\n",
    "    loss.backward()\n",
    "    optimizer.step()  # Update weights\n",
    "\n",
    "print(\"final loss:\", loss.item())"
   ]
  },
  {
   "cell_type": "code",
   "execution_count": 49,
   "id": "5b7d2742-8993-45fd-944f-974dae64ea3a",
   "metadata": {},
   "outputs": [
    {
     "data": {
      "image/png": "[encoded data removed]",
      "text/plain": [
       "<Figure size 640x480 with 4 Axes>"
      ]
     },
     "metadata": {},
     "output_type": "display_data"
    },
    {
     "name": "stdout",
     "output_type": "stream",
     "text": [
      "tensor([5, 0, 1, 3])\n"
     ]
    }
   ],
   "source": [
    "plt.figure(1)\n",
    "with torch.no_grad():\n",
    "    for x, _ in test_dataloader:\n",
    "        for i in range(x.size(0)):\n",
    "            plt.subplot(221 + i)\n",
    "            plt.imshow(x[i].permute(1, 2, 0))        \n",
    "        plt.show()\n",
    "        logit = model(x)\n",
    "        output = F.softmax(logit, dim=-1)\n",
    "        predicted_label = torch.argmax(output, dim=-1)\n",
    "        print(predicted_label)\n",
    "        break"
   ]
  },
  {
   "cell_type": "code",
   "execution_count": null,
   "id": "47ed7ed9-e052-4619-93a7-8836412a8e30",
   "metadata": {},
   "outputs": [],
   "source": [
    "total = len(test_dataloader)\n",
    "acc = 0\n",
    "with torch.no_grad():\n",
    "    for x, y in test_dataloader:\n",
    "        logit = model(x)\n",
    "        output = F.softmax(logit, dim=-1)\n",
    "        predicted_label = torch.argmax(output, dim=-1)\n",
    "        acc += torch.sum(predicted_label == y)\n",
    "total*=4\n",
    "print(\"accuracy: \", (acc).item(), \"/\", total, \" %:\", (acc/total*100).item())"
   ]
  }
 ],
 "metadata": {
  "kernelspec": {
   "display_name": "Python 3 (ipykernel)",
   "language": "python",
   "name": "python3"
  },
  "language_info": {
   "codemirror_mode": {
    "name": "ipython",
    "version": 3
   },
   "file_extension": ".py",
   "mimetype": "text/x-python",
   "name": "python",
   "nbconvert_exporter": "python",
   "pygments_lexer": "ipython3",
   "version": "3.10.12"
  }
 },
 "nbformat": 4,
 "nbformat_minor": 5
}
